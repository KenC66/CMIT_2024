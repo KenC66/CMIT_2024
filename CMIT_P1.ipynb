{
 "cells": [
  {
   "cell_type": "code",
   "execution_count": 5,
   "metadata": {},
   "outputs": [
    {
     "name": "stdout",
     "output_type": "stream",
     "text": [
      "Hello CMIT participants :-)\n"
     ]
    }
   ],
   "source": [
    "# CMIT 2024 Python Lecture 1 == CMIT_P1.ipynb  [jupyter nbconvert --to python notebook.ipynb]\n",
    "# 11 June 2024 9am\n",
    "''' Content in L1      [To launch juypter, type \"python -m jupyter notebook\"]\n",
    "1) Basic commands for scalar numbers and texts\n",
    "2) Programming basics:  \n",
    "        (i) \"if\" coditional, (ii) \"for\" loop,  (iii) arrays, matrices, tensors\n",
    "3) HW Exercise 1\n",
    "'''\n",
    "print('Hello CMIT participants :-)')\n",
    "A = 2024.6"
   ]
  },
  {
   "cell_type": "code",
   "execution_count": 11,
   "metadata": {
    "scrolled": true
   },
   "outputs": [
    {
     "name": "stdout",
     "output_type": "stream",
     "text": [
      "Task 1 --- Basic commands for scalar numbers / print\n",
      "a b c = 2024 6 506.05 d = 2 \n",
      "\n"
     ]
    }
   ],
   "source": [
    "print('Task 1 --- Basic commands for scalar numbers / print')\n",
    "a = 2024  # 1) Basic commands for scalar numbers and texts ----------------------------------------\n",
    "b = 6  # June\n",
    "c = 2024.2 / 4\n",
    "d = 2024 % 3  #Compute remainder\n",
    "print('a b c =', a, b, c,  'd =',d,  '\\n')"
   ]
  },
  {
   "cell_type": "code",
   "execution_count": 16,
   "metadata": {},
   "outputs": [
    {
     "name": "stdout",
     "output_type": "stream",
     "text": [
      "Task 2 --- Basic commands for processing/extracting texts\n",
      "\tStrings\n",
      "a = CM  --> b = MIT   Us = CMIT   b last two = nb\n"
     ]
    }
   ],
   "source": [
    "print('Task 2 --- Basic commands for processing/extracting texts')\n",
    "F = 'CMIT_P1.ipynb' # This refers to the file that we are using   [STRING]\n",
    "a = F[0:2];  b=F[1:4]    # Noting for ranges  0 start and  end-1   \n",
    "What_is = F[-1]\n",
    "print('\\tStrings')\n",
    "print('a =',a,  ' --> b =', b, '  Us =',F[0:4], ' ', \n",
    "      What_is, 'last two =', F[-2:])"
   ]
  },
  {
   "cell_type": "code",
   "execution_count": 17,
   "metadata": {},
   "outputs": [
    {
     "name": "stdout",
     "output_type": "stream",
     "text": [
      "CMIT_P1  and  ipynb  or ipynb\n"
     ]
    }
   ],
   "source": [
    "a = F.split('.')[0]\n",
    "b = F.split('.')[1];   print(a, ' and ', b, ' or', F.split('.')[-1] )"
   ]
  },
  {
   "cell_type": "code",
   "execution_count": 5,
   "metadata": {},
   "outputs": [
    {
     "name": "stdout",
     "output_type": "stream",
     "text": [
      "This is running:  CMIT_P1.ipynb\n"
     ]
    }
   ],
   "source": [
    "print( 'This is running: ', F.split('\\\\')[-1] )"
   ]
  },
  {
   "cell_type": "code",
   "execution_count": 18,
   "metadata": {},
   "outputs": [
    {
     "name": "stdout",
     "output_type": "stream",
     "text": [
      "Task 4 --- Basic commands for calling a math function\n",
      "2.718281828459045 3.141592653589793\n"
     ]
    }
   ],
   "source": [
    "print('Task 4 --- Basic commands for calling a math function')\n",
    "import math\n",
    "\n",
    "a = math.exp(1.0);  b=math.pi\n",
    "print(a, b)"
   ]
  },
  {
   "cell_type": "markdown",
   "metadata": {},
   "source": [
    "2) Programming basics:           (i) \"if\" coditional,"
   ]
  },
  {
   "cell_type": "code",
   "execution_count": 22,
   "metadata": {},
   "outputs": [
    {
     "name": "stdout",
     "output_type": "stream",
     "text": [
      "\n",
      "Task 5 --- Programming basics:           (i) \"if\" coditional\n",
      "non-negative x 0.3084322896635546\n",
      "positive y and y>=0.1 0.3036613150737173\n"
     ]
    }
   ],
   "source": [
    "print('\\nTask 5 --- Programming basics:           (i) \"if\" coditional')\n",
    "import numpy as np    # NB for \"if\"  (a) :   (b) tab 111111111111111111111111111111\n",
    "import numpy\n",
    "x = numpy.random.rand() - 0.5\n",
    "y = np.random.rand() - 0.5\n",
    "if x >= 0.0:\n",
    "    print('non-negative x', x)\n",
    "else:\n",
    "    print('\\tnegative x', x)\n",
    "\n",
    "if y >= 0.1:\n",
    "    print('positive y and y>=0.1', y)\n",
    "else:\n",
    "    print('\\tless than 0.1', y)"
   ]
  },
  {
   "cell_type": "markdown",
   "metadata": {},
   "source": [
    "Task: How to compute the series $s1=\\displaystyle\\sum_{i=1}^n\\sin(0.025 i\\pi)$ and $s2=\\displaystyle\\sum_{j=0}^n \\frac{x^j}{j!}$ "
   ]
  },
  {
   "cell_type": "code",
   "execution_count": 23,
   "metadata": {},
   "outputs": [
    {
     "name": "stdout",
     "output_type": "stream",
     "text": [
      "\n",
      "Task 6 --- Programming basics:           (ii) \"for\" loop\n",
      "\tfor -- example 1\n",
      "s1 = 2.7243136681119875  where n = 8\n"
     ]
    }
   ],
   "source": [
    "print('\\nTask 6 --- Programming basics:           (ii) \"for\" loop')\n",
    "\n",
    "print('\\tfor -- example 1')\n",
    "n = 8;   s1 = 0    ## (ii) \"for\" loop\n",
    "for i in range(1, n+1):\n",
    "    s1 = s1 + math.sin(0.025*i*math.pi)   ##  or commonly    s1 += math.sin(0.025*i*math.pi)  \n",
    "print('s1 =', s1, ' where n =',n)"
   ]
  },
  {
   "cell_type": "code",
   "execution_count": 24,
   "metadata": {},
   "outputs": [
    {
     "name": "stdout",
     "output_type": "stream",
     "text": [
      "\n",
      "\tfor -- example 2\n",
      "0 1.0\n",
      "1 0.12\n",
      "2 0.0072\n",
      "3 0.00028799999999999995\n",
      "When x= 0.12  s2 = 1.1274880000000003  Noting exp(x) = 1.1274968515793757\n"
     ]
    }
   ],
   "source": [
    "print('\\n\\tfor -- example 2')\n",
    "\n",
    "n = 3;   s2 = 0;  x=0.12\n",
    "for j in range(n+1):\n",
    "    t = x**j / math.factorial(j)\n",
    "    print(j, t)\n",
    "    s2 += t\n",
    "print('When x=', x, ' s2 =', s2, ' Noting exp(x) =', math.exp(x) )"
   ]
  },
  {
   "cell_type": "code",
   "execution_count": 25,
   "metadata": {},
   "outputs": [
    {
     "name": "stdout",
     "output_type": "stream",
     "text": [
      "\n",
      "\tfor -- example 2 (efficient)\n",
      "1 0.12\n",
      "5 2.0736e-07\n",
      "10 1.7062765714285708e-16\n",
      "15 1.1782001660054223e-26\n",
      "20 1.5757971260505956e-37\n",
      "25 6.1501466602268285e-49\n",
      "When x= 0.12 ,  s2 = 1.12749685 NB exp(x) = 1.12749685  er=2.22e-16\n"
     ]
    }
   ],
   "source": [
    "print('\\n\\tfor -- example 2 (efficient)')\n",
    "s2 = 1;  x=0.12;  t=x;  n=25   # Efficient code // \"if\" for less printing\n",
    "for j in range(1,n+1):\n",
    "    if j % 5 == 0 or j==1:\n",
    "        print(j, t)\n",
    "    s2 += t\n",
    "    t = x*t/(j+1)       # note when j=1,  t=x^2 / 2!\n",
    "print('When x=', x, ',  s2 = %.8f' % s2, 'NB exp(x) = %.8f' % math.exp(x), ' er={:.2e}'.format(s2-math.exp(x)) )"
   ]
  },
  {
   "cell_type": "markdown",
   "metadata": {},
   "source": [
    "(iii) arrays, matrices, tensors  // HOW TO use \"apppend\" to build up a LIST. "
   ]
  },
  {
   "cell_type": "code",
   "execution_count": 27,
   "metadata": {},
   "outputs": [
    {
     "name": "stdout",
     "output_type": "stream",
     "text": [
      "\n",
      "Task 7 --- Programming basics:           (iii) arrays, matrices, tensors\n",
      "\n",
      "\t vectors a b c\n",
      "a= [0 1 2 3] b= [2 3 4 5 6]\n",
      "[3.    3.125 3.25  3.375 3.5   3.625 3.75  3.875 4.   ]\n",
      "Length: a b c = 4 5 9  and shape a = (4,)\n"
     ]
    }
   ],
   "source": [
    "print('\\nTask 7 --- Programming basics:           (iii) arrays, matrices, tensors')\n",
    "print('\\n\\t vectors a b c')\n",
    "import numpy as np    # most common but there are other ways\n",
    "a = np.arange(4)\n",
    "b = np.arange(2,7)    # Moast identical to Matlab's linspace\n",
    "print('a=',a, 'b=',b)\n",
    "h = 0.125\n",
    "c = np.arange(3.0, 4.0+h, h);  print(c)\n",
    "print('Length: a b c =', len(a), len(b), len(c), ' and shape a =', a.shape)"
   ]
  },
  {
   "cell_type": "markdown",
   "metadata": {},
   "source": [
    "Task :  generate a vector (array) v with $v_i=i\\pi$ and a matrix A with $A_{i,j}=\\sin( 0.25i + 0.32j ) +\\delta_{i,j}$, where $i,j=0,...,4$ and $\\delta_{i,i}=1$"
   ]
  },
  {
   "cell_type": "code",
   "execution_count": 28,
   "metadata": {},
   "outputs": [
    {
     "name": "stdout",
     "output_type": "stream",
     "text": [
      "\n",
      "\t vector v and matrix B   (by append)\n",
      "v = [ 0.          3.14159265  6.28318531  9.42477796 12.56637061] \n",
      "\n",
      "B = [[1.         0.31456656 0.59719544 0.81919157 0.95801586]\n",
      " [0.24740396 1.53963205 0.77707175 0.935616   0.99916795]\n",
      " [0.47942554 0.73114583 1.9086335  0.99386836 0.97819661]\n",
      " [0.68163876 0.8772005  0.98370081 1.9903268  0.89640574]\n",
      " [0.84147098 0.9687151  0.99760638 0.92521152 1.75888071]]\n"
     ]
    }
   ],
   "source": [
    "print('\\n\\t vector v and matrix B   (by append)')\n",
    "v = [];  B=[]\n",
    "for i in range( 5 ):  # dim = 4\n",
    "    x = i*math.pi;    v.append( x )\n",
    "    B.append([])   # This is needed for notation [[]] for matrix\n",
    "    for j in range( 5 ):\n",
    "        y = math.sin( i*0.25 + j*0.32 );  \n",
    "        if i==j:\n",
    "            y=y+1\n",
    "        B[i].append( y )\n",
    "print('v =',np.array(v).astype(float), '\\n')\n",
    "print('B =', np.array(B))"
   ]
  },
  {
   "cell_type": "code",
   "execution_count": 29,
   "metadata": {},
   "outputs": [
    {
     "name": "stdout",
     "output_type": "stream",
     "text": [
      "B shape (dim) = (5, 5)\n",
      "||B||_F =  5.278611892966693\n",
      "\n",
      "\t Solution of a linear system Bx = b  (NB. matrix-vector product)\n",
      "SOL x= [-23.29452618 -13.11396172  -1.92270562   9.77875303  21.45820323]\n",
      "Shapes = (5, 5) (5,) (5,)\n",
      "Err = [ 4.40098768e-16 -1.33226763e-15  0.00000000e+00 -1.77635684e-15\n",
      " -5.32907052e-15]  Norm = 5.790e-15\n"
     ]
    }
   ],
   "source": [
    "# Matrix norm\n",
    "from numpy import linalg as LA\n",
    "B = np.array(B);   print('B shape (dim) =',B.shape)\n",
    "B_n = LA.norm( B, ord='fro')\n",
    "print('||B||_F = ', B_n)\n",
    "\n",
    "print('\\n\\t Solution of a linear system Bx = b  (NB. matrix-vector product)')\n",
    "b = np.array(v)\n",
    "x =  LA.solve(B, b)  # Solve Bx = b\n",
    "r = np.dot(B,x)-b\n",
    "print('SOL x=',x)\n",
    "print('Shapes =', B.shape,b.shape,x.shape)\n",
    "print('Err =', r, ' Norm = %.3e' % LA.norm(r))"
   ]
  },
  {
   "cell_type": "code",
   "execution_count": 14,
   "metadata": {},
   "outputs": [
    {
     "name": "stdout",
     "output_type": "stream",
     "text": [
      "(7, 7, 3) typical color image (after imread and in plotting) numpy\n",
      "\n",
      "torch.Size([7, 7, 3]) typical color image (torch tensor) same shape\n",
      "torch.Size([3, 7, 7]) typical color image (torch tensor) new shape towards DL\n",
      "torch.Size([1, 3, 7, 7]) typical color image (torch tensor) new shape ready for DL (with batch)\n",
      "\n",
      "(1, 3, 7, 7) typical format for DL operations:    single batch data (3 channels)\n",
      "(4, 3, 7, 7) typical format for DL operations:  when batch size = 4 (3 channels)\n",
      "torch.Size([2, 3, 7, 7]) Torch rand more flexible for tensor shape (np cannot do > 2 dim)\n",
      "\n"
     ]
    }
   ],
   "source": [
    "print('\\nTask 8 --- np.array to torch array (used a lot later in DL)')\n",
    "\n",
    "# Tensors (Deep Learning use later)\n",
    "import torch\n",
    "A = np.zeros( (7,7,3) )\n",
    "print(A.shape, 'typical color image (after imread and in plotting) numpy\\n')\n",
    "\n",
    "A1 = torch.from_numpy(A)\n",
    "print(A1.size(), 'typical color image (torch tensor) same shape')\n",
    "\n",
    "A2 = A1.permute([2,0,1])\n",
    "print(A2.size(), 'typical color image (torch tensor) new shape towards DL')\n",
    "\n",
    "A3 = A2[None,:]\n",
    "print(A3.size(), 'typical color image (torch tensor) new shape ready for DL (with batch)\\n')\n",
    "\n",
    "print('\\nTask 9 --- Form a typical torch array (batch,depth,dx,dy)')\n",
    "A = np.zeros( (1,3,7,7) )\n",
    "B = np.zeros( (4,3,7,7) )\n",
    "print(np.shape(A), 'typical format for DL operations:    single batch data (3 channels)')\n",
    "print(np.shape(B), 'typical format for DL operations:  when batch size = 4 (3 channels)')\n",
    "\n",
    "A = torch.rand( 2, 3,7,7 )\n",
    "print(A.shape, 'Torch rand more flexible for tensor shape (np cannot do > 2 dim)\\n')"
   ]
  },
  {
   "cell_type": "markdown",
   "metadata": {},
   "source": [
    "Notation in HW 1 --- Below $H_{ij}=\\frac{1}{(i+j-1)}$ for $i,j=1,...,n$."
   ]
  },
  {
   "cell_type": "markdown",
   "metadata": {},
   "source": []
  },
  {
   "cell_type": "code",
   "execution_count": 30,
   "metadata": {},
   "outputs": [
    {
     "name": "stdout",
     "output_type": "stream",
     "text": [
      "\n",
      "Home work 1 --- Generate a matrix and compute its condition number\n",
      "\n",
      "TASK:  If not sure about the maths concepts, check wiki or other sources.\n",
      "   Write a code to generate the Hilbert matrix $H$ with $H_{ij}=1/(i_j-1)$ for $i,j=1,...,n$.\n",
      "   Then compute its condition number $cond(H)$ for $n=4, 8$ by numpy.linalg.cond\n",
      "   If your code runs okay,  just show it quickly and your answers on screen in the next lecture\n",
      "\n",
      "\t time = 2024 06 10 @ 22:23:07\n"
     ]
    }
   ],
   "source": [
    "# HOME WORK 1 -- If not sure about the maths concepts, check wiki or other sources\n",
    "# \n",
    "print('\\nHome work 1 --- Generate a matrix and compute its condition number\\n')\n",
    "\n",
    "s='TASK:  If not sure about the maths concepts, check wiki or other sources.\\n\\\n",
    "   Write a code to generate the Hilbert matrix $H$ with $H_{ij}=1/(i_j-1)$ for $i,j=1,...,n$.\\n\\\n",
    "   Then compute its condition number $cond(H)$ for $n=4, 8$ by numpy.linalg.cond\\n\\\n",
    "   If your code runs okay,  just show it quickly and your answers on screen in the next lecture\\n'\n",
    "print(s)\n",
    "\n",
    "import datetime\n",
    "time0 = datetime.datetime.now().strftime(\"%Y %m %d @ %H:%M:%S\"); print('\\t time =', time0)\n",
    "# NEXT Lecture CMIT 2\n",
    "# Advanced programming:  \"def\" for a function, \"class\" for an advanecd function, plot/imshow\n",
    "#   plus one or two examples "
   ]
  },
  {
   "cell_type": "code",
   "execution_count": 3,
   "metadata": {},
   "outputs": [],
   "source": [
    "# NEXT Lecture CMIT 2\n",
    "# Advanced programming:  \"def\" for a function, \"class\" for an advanecd function\n",
    "#   plus one or two examples "
   ]
  }
 ],
 "metadata": {
  "kernelspec": {
   "display_name": "Python 3 (ipykernel)",
   "language": "python",
   "name": "python3"
  },
  "language_info": {
   "codemirror_mode": {
    "name": "ipython",
    "version": 3
   },
   "file_extension": ".py",
   "mimetype": "text/x-python",
   "name": "python",
   "nbconvert_exporter": "python",
   "pygments_lexer": "ipython3",
   "version": "3.11.9"
  }
 },
 "nbformat": 4,
 "nbformat_minor": 2
}
